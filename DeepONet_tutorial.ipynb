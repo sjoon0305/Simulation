{
  "cells": [
    {
      "cell_type": "markdown",
      "metadata": {
        "id": "Z4VvJRu9nVWI"
      },
      "source": [
        "<a href=\"https://colab.research.google.com/github/sjoon0305/Simulation/blob/main/DeepONet_tutorial.ipynb\" target=\"_parent\"><img src=\"https://colab.research.google.com/assets/colab-badge.svg\" alt=\"Open In Colab\"/></a>"
      ]
    },
    {
      "cell_type": "markdown",
      "metadata": {
        "id": "sU3iokplnVWI"
      },
      "source": [
        "참고:\n",
        "1. DeepXDE. https://deepxde.readthedocs.io/en/latest/demos/operator/antiderivative_aligned.html\n",
        "2. Github DeepONet 코드. https://github.com/GideonIlung/DeepONet\n",
        "3. 학습 데이터 다운로드: https://yaleedu-my.sharepoint.com/personal/lu_lu_yale_edu/_layouts/15/onedrive.aspx?id=%2Fpersonal%2Flu%5Flu%5Fyale%5Fedu%2FDocuments%2Fdatasets%2Fdeepxde&ga=1"
      ]
    },
    {
      "cell_type": "code",
      "source": [
        "!git clone https://github.com/GideonIlung/DeepONet.git"
      ],
      "metadata": {
        "id": "4BNUjFmxq7em",
        "outputId": "52c1e596-50db-42c9-9c51-2c089805186f",
        "colab": {
          "base_uri": "https://localhost:8080/"
        }
      },
      "execution_count": 1,
      "outputs": [
        {
          "output_type": "stream",
          "name": "stdout",
          "text": [
            "fatal: destination path 'DeepONet' already exists and is not an empty directory.\n"
          ]
        }
      ]
    },
    {
      "cell_type": "code",
      "source": [
        "#getting the data#\n",
        "# The dataset is curtesy of the DeepXDE library (Lu et al.), was used in a\n",
        "# tutorial similar in scope to this notebook\n",
        "# https://deepxde.readthedocs.io/en/latest/demos/operator/antiderivative_aligned.html\n",
        "# Download from a github repository of ETH Zurich's course on \"Deep Learning in\n",
        "# Scienfitic Computing\"\n",
        "!wget https://github.com/mroberto166/CAMLab-DLSCTutorials/raw/main/antiderivative_aligned_train.npz\n",
        "!wget https://github.com/mroberto166/CAMLab-DLSCTutorials/raw/main/antiderivative_aligned_test.npz"
      ],
      "metadata": {
        "id": "xKT_BLUwqgOv",
        "outputId": "08753145-3485-4963-aab2-5f206b0ac2ba",
        "colab": {
          "base_uri": "https://localhost:8080/"
        }
      },
      "execution_count": 2,
      "outputs": [
        {
          "output_type": "stream",
          "name": "stdout",
          "text": [
            "--2024-11-27 08:12:19--  https://github.com/mroberto166/CAMLab-DLSCTutorials/raw/main/antiderivative_aligned_train.npz\n",
            "Resolving github.com (github.com)... 140.82.113.3\n",
            "Connecting to github.com (github.com)|140.82.113.3|:443... connected.\n",
            "HTTP request sent, awaiting response... 302 Found\n",
            "Location: https://raw.githubusercontent.com/mroberto166/CAMLab-DLSCTutorials/main/antiderivative_aligned_train.npz [following]\n",
            "--2024-11-27 08:12:19--  https://raw.githubusercontent.com/mroberto166/CAMLab-DLSCTutorials/main/antiderivative_aligned_train.npz\n",
            "Resolving raw.githubusercontent.com (raw.githubusercontent.com)... 185.199.110.133, 185.199.108.133, 185.199.111.133, ...\n",
            "Connecting to raw.githubusercontent.com (raw.githubusercontent.com)|185.199.110.133|:443... connected.\n",
            "HTTP request sent, awaiting response... 200 OK\n",
            "Length: 241573 (236K) [application/octet-stream]\n",
            "Saving to: ‘antiderivative_aligned_train.npz.1’\n",
            "\n",
            "\r          antideriv   0%[                    ]       0  --.-KB/s               \rantiderivative_alig 100%[===================>] 235.91K  --.-KB/s    in 0.04s   \n",
            "\n",
            "2024-11-27 08:12:19 (6.44 MB/s) - ‘antiderivative_aligned_train.npz.1’ saved [241573/241573]\n",
            "\n",
            "--2024-11-27 08:12:19--  https://github.com/mroberto166/CAMLab-DLSCTutorials/raw/main/antiderivative_aligned_test.npz\n",
            "Resolving github.com (github.com)... 140.82.113.3\n",
            "Connecting to github.com (github.com)|140.82.113.3|:443... connected.\n",
            "HTTP request sent, awaiting response... 302 Found\n",
            "Location: https://raw.githubusercontent.com/mroberto166/CAMLab-DLSCTutorials/main/antiderivative_aligned_test.npz [following]\n",
            "--2024-11-27 08:12:20--  https://raw.githubusercontent.com/mroberto166/CAMLab-DLSCTutorials/main/antiderivative_aligned_test.npz\n",
            "Resolving raw.githubusercontent.com (raw.githubusercontent.com)... 185.199.111.133, 185.199.109.133, 185.199.110.133, ...\n",
            "Connecting to raw.githubusercontent.com (raw.githubusercontent.com)|185.199.111.133|:443... connected.\n",
            "HTTP request sent, awaiting response... 200 OK\n",
            "Length: 1601574 (1.5M) [application/octet-stream]\n",
            "Saving to: ‘antiderivative_aligned_test.npz.1’\n",
            "\n",
            "antiderivative_alig 100%[===================>]   1.53M  --.-KB/s    in 0.07s   \n",
            "\n",
            "2024-11-27 08:12:20 (23.1 MB/s) - ‘antiderivative_aligned_test.npz.1’ saved [1601574/1601574]\n",
            "\n"
          ]
        }
      ]
    },
    {
      "cell_type": "code",
      "source": [
        "#IMPORTS\n",
        "import sys\n",
        "import numpy as np\n",
        "import matplotlib.pyplot as plt\n",
        "import torch\n",
        "\n",
        "#importing custom files#\n",
        "sys.path.append('./DeepONet/src')\n",
        "from model import DeepONet\n",
        "from optim import train_DON"
      ],
      "metadata": {
        "id": "wT34Um1jpiQg"
      },
      "execution_count": 3,
      "outputs": []
    },
    {
      "cell_type": "code",
      "source": [
        "#loading the data#\n",
        "data_train = np.load(\"antiderivative_aligned_train.npz\",allow_pickle=True)\n",
        "data_test = np.load(\"antiderivative_aligned_test.npz\",allow_pickle=True)"
      ],
      "metadata": {
        "id": "5QZL9qMInXc3"
      },
      "execution_count": 4,
      "outputs": []
    },
    {
      "cell_type": "code",
      "source": [
        "#formatting the training data#\n",
        "branch_train = data_train['X'][0]\n",
        "trunk_train =data_train['X'][1]\n",
        "Y_train = data_train['y']\n",
        "\n",
        "print(f\"branch shape (n_function,n_grid_points): {branch_train.shape}\")\n",
        "print(f\"trunk shape (n_grid_points,1): {trunk_train.shape}\")\n",
        "print(f\"output shape (n_function,n_grid_points) : {Y_train.shape}\")"
      ],
      "metadata": {
        "id": "I80SJZXspmRZ",
        "outputId": "68f04052-2f1f-4089-c051-d679828c5642",
        "colab": {
          "base_uri": "https://localhost:8080/"
        }
      },
      "execution_count": 5,
      "outputs": [
        {
          "output_type": "stream",
          "name": "stdout",
          "text": [
            "branch shape (n_function,n_grid_points): (150, 100)\n",
            "trunk shape (n_grid_points,1): (100, 1)\n",
            "output shape (n_function,n_grid_points) : (150, 100)\n"
          ]
        }
      ]
    },
    {
      "cell_type": "code",
      "source": [
        "\n",
        "#formatting the test data#\n",
        "branch_test = data_test['X'][0]\n",
        "trunk_test =data_test['X'][1]\n",
        "Y_test = data_test['y']\n",
        "\n",
        "print(f\"branch shape (n_function,n_grid_points): {branch_test.shape}\")\n",
        "print(f\"trunk shape (n_grid_points,1): {trunk_test.shape}\")\n",
        "print(f\"output shape (n_function,n_grid_points) : {Y_test.shape}\")"
      ],
      "metadata": {
        "id": "qZESiizOpoVt",
        "outputId": "2347f6fe-4377-45e8-d42a-5dc1b295d1c6",
        "colab": {
          "base_uri": "https://localhost:8080/"
        }
      },
      "execution_count": 6,
      "outputs": [
        {
          "output_type": "stream",
          "name": "stdout",
          "text": [
            "branch shape (n_function,n_grid_points): (1000, 100)\n",
            "trunk shape (n_grid_points,1): (100, 1)\n",
            "output shape (n_function,n_grid_points) : (1000, 100)\n"
          ]
        }
      ]
    },
    {
      "cell_type": "markdown",
      "metadata": {
        "id": "k7RuDekwnVWJ"
      },
      "source": [
        "## Problem Description\n",
        "Antiderivative operator의 학습.\n",
        "\n",
        "아래와 같이 주어진 문제에서\n",
        "$$\\frac{dv(x)}{dx} = u(x), \\qquad x \\in [0, 1],$$\n",
        "$$u(0)=0$$\n",
        "\n",
        "다음과 같은 operator를 찾는다.\n",
        "$$G: u \\mapsto v$$\n"
      ]
    },
    {
      "cell_type": "code",
      "execution_count": 7,
      "metadata": {
        "id": "0Fyv_eUlnVWJ"
      },
      "outputs": [],
      "source": [
        "import torch\n",
        "import torch.nn as nn\n",
        "import numpy as np\n",
        "import matplotlib.pyplot as plt\n",
        "from torch.utils.data import Dataset"
      ]
    },
    {
      "cell_type": "code",
      "execution_count": 8,
      "metadata": {
        "id": "mfjvlqttnVWJ"
      },
      "outputs": [],
      "source": [
        "torch.set_default_dtype(torch.float32)\n",
        "dtype = torch.float32"
      ]
    },
    {
      "cell_type": "code",
      "execution_count": 9,
      "metadata": {
        "id": "9DVpUG_ZnVWJ"
      },
      "outputs": [],
      "source": [
        "def convert_np_to_tensor(array):\n",
        "  if isinstance(array, np.ndarray):\n",
        "    # Convert NumPy array to PyTorch tensor\n",
        "    tensor = torch.from_numpy(array)\n",
        "    return tensor.to(torch.float32)\n",
        "  else:\n",
        "    return array"
      ]
    },
    {
      "cell_type": "code",
      "execution_count": 16,
      "metadata": {
        "id": "phnafHXgnVWK",
        "outputId": "0e6dd769-4b49-4f00-e3e0-864800f44a15",
        "colab": {
          "base_uri": "https://localhost:8080/"
        }
      },
      "outputs": [
        {
          "output_type": "stream",
          "name": "stdout",
          "text": [
            "u_train shape: torch.Size([150, 100]), type: <class 'torch.Tensor'>, dtype: torch.float32\n",
            "u_train shape: torch.Size([100, 1]), type: <class 'torch.Tensor'>, dtype: torch.float32\n",
            "u_train shape: torch.Size([150, 100]), type: <class 'torch.Tensor'>, dtype: torch.float32\n"
          ]
        }
      ],
      "source": [
        "d = np.load(\"./antiderivative_aligned_train.npz\", allow_pickle=True)\n",
        "u_train_np, y_train_np, guy_train_np = d[\"X\"][0], d[\"X\"][1], d[\"y\"]\n",
        "u_train   = convert_np_to_tensor(u_train_np)\n",
        "y_train   = convert_np_to_tensor(y_train_np)\n",
        "guy_train = convert_np_to_tensor(guy_train_np)\n",
        "\n",
        "print(f'u_train shape: {u_train.shape}, type: {type(u_train)}, dtype: {u_train.dtype}')\n",
        "print(f'u_train shape: {y_train.shape}, type: {type(y_train)}, dtype: {y_train.dtype}')\n",
        "print(f'u_train shape: {guy_train.shape}, type: {type(guy_train)}, dtype: {guy_train.dtype}')"
      ]
    },
    {
      "cell_type": "code",
      "execution_count": 17,
      "metadata": {
        "id": "dB0OZf2UnVWK",
        "outputId": "e9e14156-3092-4afe-826a-731459431d27",
        "colab": {
          "base_uri": "https://localhost:8080/",
          "height": 431
        }
      },
      "outputs": [
        {
          "output_type": "display_data",
          "data": {
            "text/plain": [
              "<Figure size 640x480 with 1 Axes>"
            ],
            "image/png": "[encoded data removed]"
          },
          "metadata": {}
        }
      ],
      "source": [
        "# Data 확인\n",
        "train_idx = 11\n",
        "plt.figure()\n",
        "plt.plot(y_train_np, u_train_np[train_idx,:])\n",
        "plt.plot(y_train_np, guy_train_np[train_idx,:])\n",
        "plt.plot(y_train_np, np.gradient(guy_train_np[train_idx,:], y_train_np.squeeze()))\n",
        "plt.legend(['u','v','u_numerical'])\n",
        "plt.show()"
      ]
    },
    {
      "cell_type": "code",
      "execution_count": 21,
      "metadata": {
        "id": "cLlwNXh-nVWK"
      },
      "outputs": [],
      "source": [
        "class Datahandler(Dataset):\n",
        "    \"\"\"\n",
        "        Handles the training Dataset\n",
        "        for the DeepONet\n",
        "    \"\"\"\n",
        "    def __init__(self, u_branch, y_trunk, guy):\n",
        "        self.u_branch = u_branch\n",
        "        self.y_trunk = y_trunk\n",
        "        self.guy = guy\n",
        "\n",
        "    def __len__(self):\n",
        "        return len(self.guy)  # Assuming x_batch and x_trunk have the same length as y\n",
        "\n",
        "    def __getitem__(self, index):\n",
        "        return self.u_branch[index,:], self.y_trunk, self.guy[index,:]"
      ]
    },
    {
      "cell_type": "code",
      "execution_count": 22,
      "metadata": {
        "id": "T5I_Oo6EnVWK"
      },
      "outputs": [],
      "source": [
        "# 데이터 준비\n",
        "dataset = Datahandler(u_train, y_train, guy_train)\n",
        "dataloader = torch.utils.data.DataLoader(dataset, batch_size=32, shuffle=True)"
      ]
    },
    {
      "cell_type": "code",
      "execution_count": 23,
      "metadata": {
        "id": "WaHC6NU5nVWK"
      },
      "outputs": [],
      "source": [
        "class Network(torch.nn.Module):\n",
        "  def __init__(self):\n",
        "    super(Network,self).__init__()\n",
        "    self.bias  = nn.Parameter(torch.tensor(1.0) ,requires_grad=True)\n",
        "    self.branch = nn.Sequential(\n",
        "      nn.Linear(100, 40), nn.ReLU(),\n",
        "      nn.Linear(40, 40), nn.ReLU()\n",
        "    )\n",
        "    self.trunk = nn.Sequential(\n",
        "      nn.Linear(1, 40), nn.ReLU(),\n",
        "      nn.Linear(40, 40), nn.ReLU()\n",
        "    )\n",
        "\n",
        "  def forward(self, u, y):\n",
        "    branch_out = self.branch(u)\n",
        "    trunk_out  = self.trunk(y)\n",
        "    out = branch_out@trunk_out.t() + self.bias\n",
        "    return out\n",
        "\n",
        "def init_weights(m):\n",
        "  if type(m) == nn.Linear:\n",
        "    nn.init.xavier_normal_(m.weight.data)\n",
        "    nn.init.zeros_(m.bias)"
      ]
    },
    {
      "cell_type": "code",
      "execution_count": 24,
      "metadata": {
        "id": "B-LH-NNRnVWK",
        "outputId": "2041cbbd-6e03-4eed-f641-b783c0daa75a",
        "colab": {
          "base_uri": "https://localhost:8080/"
        }
      },
      "outputs": [
        {
          "output_type": "execute_result",
          "data": {
            "text/plain": [
              "Network(\n",
              "  (branch): Sequential(\n",
              "    (0): Linear(in_features=100, out_features=40, bias=True)\n",
              "    (1): ReLU()\n",
              "    (2): Linear(in_features=40, out_features=40, bias=True)\n",
              "    (3): ReLU()\n",
              "  )\n",
              "  (trunk): Sequential(\n",
              "    (0): Linear(in_features=1, out_features=40, bias=True)\n",
              "    (1): ReLU()\n",
              "    (2): Linear(in_features=40, out_features=40, bias=True)\n",
              "    (3): ReLU()\n",
              "  )\n",
              ")"
            ]
          },
          "metadata": {},
          "execution_count": 24
        }
      ],
      "source": [
        "model = Network()\n",
        "model.apply(init_weights)"
      ]
    },
    {
      "cell_type": "code",
      "execution_count": 25,
      "metadata": {
        "id": "jE5BIZR9nVWL"
      },
      "outputs": [],
      "source": [
        "loss_fn = nn.MSELoss()\n",
        "optimizer = torch.optim.Adam(model.parameters(), lr=0.001)\n",
        "train_history = {'loss':[]}\n"
      ]
    },
    {
      "cell_type": "code",
      "execution_count": null,
      "metadata": {
        "id": "ztWDnWEDnVWL",
        "outputId": "01ed40d1-094e-440a-dcbf-c3fd994ab9c8",
        "colab": {
          "base_uri": "https://localhost:8080/"
        }
      },
      "outputs": [
        {
          "output_type": "stream",
          "name": "stdout",
          "text": [
            "Epoch: 0, Loss: 1.6\n",
            "Epoch: 1000, Loss: 0.0083\n",
            "Epoch: 2000, Loss: 0.00073\n",
            "Epoch: 3000, Loss: 0.00085\n",
            "Epoch: 4000, Loss: 0.00017\n",
            "Epoch: 5000, Loss: 0.00012\n",
            "Epoch: 6000, Loss: 8.7e-05\n",
            "Epoch: 7000, Loss: 9e-05\n",
            "Epoch: 8000, Loss: 3.9e-05\n",
            "Epoch: 9000, Loss: 0.00019\n",
            "Epoch: 10000, Loss: 0.0001\n",
            "Epoch: 11000, Loss: 5.1e-05\n",
            "Epoch: 12000, Loss: 2.4e-05\n",
            "Epoch: 13000, Loss: 0.00013\n",
            "Epoch: 14000, Loss: 2.7e-05\n",
            "Epoch: 15000, Loss: 1.7e-05\n",
            "Epoch: 16000, Loss: 1.4e-05\n",
            "Epoch: 17000, Loss: 1e-05\n",
            "Epoch: 18000, Loss: 1.2e-05\n"
          ]
        }
      ],
      "source": [
        "n_epochs = 20000\n",
        "for epoch in range(n_epochs):\n",
        "  losses = []\n",
        "  for u_batch, _, guy_batch in dataloader:\n",
        "    optimizer.zero_grad()\n",
        "\n",
        "    #forward pass through model#\n",
        "    pred = model(u_batch, y_train)\n",
        "    loss = loss_fn(pred, guy_batch)\n",
        "\n",
        "    # Backward pass\n",
        "    loss.backward()\n",
        "\n",
        "    #calculate avg loss across batches#\n",
        "    losses.append(loss.item())\n",
        "\n",
        "    # Update parameters\n",
        "    optimizer.step()\n",
        "\n",
        "  avg_loss = np.mean(losses)\n",
        "  if epoch%1000 ==0:\n",
        "    print(f'Epoch: {epoch}, Loss: {float(avg_loss):.2}')"
      ]
    },
    {
      "cell_type": "markdown",
      "metadata": {
        "id": "M4yfjnAEnVWL"
      },
      "source": [
        "---\n",
        "# Test"
      ]
    },
    {
      "cell_type": "code",
      "execution_count": 19,
      "metadata": {
        "id": "NriwQ_IGnVWL",
        "outputId": "deb776cf-ff39-4af4-c29e-c9147644c6ce",
        "colab": {
          "base_uri": "https://localhost:8080/"
        }
      },
      "outputs": [
        {
          "output_type": "stream",
          "name": "stdout",
          "text": [
            "u_train shape: torch.Size([1000, 100]), type: <class 'torch.Tensor'>, dtype: torch.float32\n",
            "u_train shape: torch.Size([100, 1]), type: <class 'torch.Tensor'>, dtype: torch.float32\n",
            "u_train shape: torch.Size([1000, 100]), type: <class 'torch.Tensor'>, dtype: torch.float32\n"
          ]
        }
      ],
      "source": [
        "d = np.load(\"antiderivative_aligned_test.npz\", allow_pickle=True)\n",
        "u_test_np, y_test_np, guy_test_np = d[\"X\"][0], d[\"X\"][1], d[\"y\"]\n",
        "u_test   = convert_np_to_tensor(u_test_np)\n",
        "y_test   = convert_np_to_tensor(y_test_np)\n",
        "guy_test = convert_np_to_tensor(guy_test_np)\n",
        "\n",
        "print(f'u_train shape: {u_test.shape}, type: {type(u_test)}, dtype: {u_test.dtype}')\n",
        "print(f'u_train shape: {y_test.shape}, type: {type(y_test)}, dtype: {y_test.dtype}')\n",
        "print(f'u_train shape: {guy_test.shape}, type: {type(guy_test)}, dtype: {guy_test.dtype}')"
      ]
    },
    {
      "cell_type": "code",
      "source": [
        "i = 5 #function index#\n",
        "u_pred = model(u_test[i,:], y_test)\n",
        "u_pred = u_pred.detach().numpy().flatten()\n",
        "\n",
        "plt.plot(y_test_np,u_test[i,:],label='function')\n",
        "plt.plot(y_test_np,guy_test[i,:],label='antiderivative')\n",
        "plt.plot(y_test_np,u_pred,label='DeepONet')\n",
        "plt.grid()\n",
        "plt.legend(loc='best')"
      ],
      "metadata": {
        "id": "oW_-qeBNsoRz"
      },
      "execution_count": null,
      "outputs": []
    }
  ],
  "metadata": {
    "kernelspec": {
      "display_name": ".venv",
      "language": "python",
      "name": "python3"
    },
    "language_info": {
      "codemirror_mode": {
        "name": "ipython",
        "version": 3
      },
      "file_extension": ".py",
      "mimetype": "text/x-python",
      "name": "python",
      "nbconvert_exporter": "python",
      "pygments_lexer": "ipython3",
      "version": "3.10.12"
    },
    "colab": {
      "provenance": []
    }
  },
  "nbformat": 4,
  "nbformat_minor": 0
}