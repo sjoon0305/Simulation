{
  "nbformat": 4,
  "nbformat_minor": 0,
  "metadata": {
    "colab": {
      "provenance": [],
      "gpuType": "T4"
    },
    "kernelspec": {
      "name": "python3",
      "display_name": "Python 3"
    },
    "language_info": {
      "name": "python"
    },
    "accelerator": "GPU"
  },
  "cells": [
    {
      "cell_type": "markdown",
      "source": [
        "<a href=\"https://colab.research.google.com/github/sjoon0305/Simulation/blob/main/4_Lorenz_system.ipynb\" target=\"_parent\"><img src=\"https://colab.research.google.com/assets/colab-badge.svg\" alt=\"Open In Colab\"/></a>"
      ],
      "metadata": {
        "id": "hOmNlVB_5j40"
      }
    },
    {
      "cell_type": "markdown",
      "source": [
        "# Problem setup\n",
        "We will solve Lorenz System Inverse problem:\n",
        "\n",
        "$$\\frac{dx}{dt} = \\sigma(y-x),\\quad \\frac{dy}{dt} = x(\\rho-z)-y, \\quad \\frac{dz}{dt} = xy-\\beta z, \\qquad t \\in [0, 3],$$\n",
        "\n",
        "with initial condition\n",
        "\n",
        "$$x(0)=-8,\\quad y(0)=7,\\quad z(0) =27$$\n",
        "\n",
        "\n",
        "The exact parameters are\n",
        "$$ \\sigma=10,\\quad \\rho=7,\\quad \\beta=\\frac{8}{3}$$"
      ],
      "metadata": {
        "id": "ywnhkwZuP5OO"
      }
    },
    {
      "cell_type": "code",
      "execution_count": 1,
      "metadata": {
        "id": "FEBx43uD6NbL"
      },
      "outputs": [],
      "source": [
        "import torch\n",
        "import torch.nn as nn\n",
        "import numpy as np\n",
        "from torch.autograd import Variable\n",
        "import matplotlib.pyplot as plt"
      ]
    },
    {
      "cell_type": "code",
      "source": [
        "# 파일 다운로드, 파라미터 추정을 위해 학습 전에 미리 얻는 데이터\n",
        "!wget -O /content/Lorenz.npz https://raw.githubusercontent.com/lululxvi/deepxde/master/examples/dataset/Lorenz.npz"
      ],
      "metadata": {
        "colab": {
          "base_uri": "https://localhost:8080/"
        },
        "id": "9iyKXSitZEU3",
        "outputId": "d2e230fc-5657-4d7a-9d35-3166bec862ff"
      },
      "execution_count": 2,
      "outputs": [
        {
          "output_type": "stream",
          "name": "stdout",
          "text": [
            "--2024-11-20 09:14:29--  https://raw.githubusercontent.com/lululxvi/deepxde/master/examples/dataset/Lorenz.npz\n",
            "Resolving raw.githubusercontent.com (raw.githubusercontent.com)... 185.199.108.133, 185.199.109.133, 185.199.110.133, ...\n",
            "Connecting to raw.githubusercontent.com (raw.githubusercontent.com)|185.199.108.133|:443... connected.\n",
            "HTTP request sent, awaiting response... 200 OK\n",
            "Length: 1250 (1.2K) [application/octet-stream]\n",
            "Saving to: ‘/content/Lorenz.npz’\n",
            "\n",
            "\r/content/Lorenz.npz   0%[                    ]       0  --.-KB/s               \r/content/Lorenz.npz 100%[===================>]   1.22K  --.-KB/s    in 0s      \n",
            "\n",
            "2024-11-20 09:14:29 (75.0 MB/s) - ‘/content/Lorenz.npz’ saved [1250/1250]\n",
            "\n"
          ]
        }
      ]
    },
    {
      "cell_type": "code",
      "source": [
        "# 다운받은 데이터 읽어오기\n",
        "def gen_traindata():\n",
        "    data = np.load(\"../content/Lorenz.npz\")\n",
        "    return data[\"t\"], data[\"y\"]\n",
        "\n",
        "observe_t, ob_u = gen_traindata()\n",
        "observe_x, observe_y, observe_z = ob_u[:, 0:1], ob_u[:, 1:2], ob_u[:, 2:3]"
      ],
      "metadata": {
        "id": "ftVlyFSdRimz"
      },
      "execution_count": 3,
      "outputs": []
    },
    {
      "cell_type": "code",
      "source": [
        "# 데이터 시각화\n",
        "plt.scatter(observe_t, observe_x, label='Observed x', color='blue')\n",
        "plt.scatter(observe_t, observe_y, label='Observed y', color='orange')\n",
        "plt.scatter(observe_t, observe_z, label='Observed z', color='green')\n",
        "plt.legend()"
      ],
      "metadata": {
        "colab": {
          "base_uri": "https://localhost:8080/",
          "height": 448
        },
        "id": "FBa49pWYbYqF",
        "outputId": "e2feb051-732e-4c13-b196-fa64a8a0944a"
      },
      "execution_count": 4,
      "outputs": [
        {
          "output_type": "execute_result",
          "data": {
            "text/plain": [
              "<matplotlib.legend.Legend at 0x7fa69a3942b0>"
            ]
          },
          "metadata": {},
          "execution_count": 4
        },
        {
          "output_type": "display_data",
          "data": {
            "text/plain": [
              "<Figure size 640x480 with 1 Axes>"
            ],
            "image/png": "[encoded data removed]"
          },
          "metadata": {}
        }
      ]
    },
    {
      "cell_type": "code",
      "source": [
        "# 모델 구성\n",
        "class Net(nn.Module):\n",
        "    def __init__(self):\n",
        "        super(Net, self).__init__()\n",
        "        self.hidden_layer1 = nn.Linear(1,50)\n",
        "        self.hidden_layer2 = nn.Linear(50,50)\n",
        "        self.output_layer = nn.Linear(50,3)\n",
        "\n",
        "    def forward(self, t):\n",
        "        layer1_out = torch.tanh(self.hidden_layer1(t))\n",
        "        layer2_out = torch.tanh(self.hidden_layer2(layer1_out))\n",
        "        output = self.output_layer(layer2_out)\n",
        "        return output[:, 0:1], output[:, 1:2], output[:, 2:]"
      ],
      "metadata": {
        "id": "kxDHOzRM7PDL"
      },
      "execution_count": 5,
      "outputs": []
    },
    {
      "cell_type": "code",
      "source": [
        "# sigma, rho, beta\n",
        "C1 = torch.tensor(1.0, requires_grad=True)\n",
        "C2 = torch.tensor(1.0, requires_grad=True)\n",
        "C3 = torch.tensor(1.0, requires_grad=True)\n",
        "external_trainable_variables = [C1, C2, C3]\n",
        "\n",
        "### (2) Model\n",
        "net = Net()\n",
        "mse_cost_function = torch.nn.MSELoss() # Mean squared error\n",
        "optimizer = torch.optim.Adam([\n",
        "    {'params': net.parameters()},\n",
        "    {'params': external_trainable_variables} #  σ, ρ, β : 모두 1로 가정\n",
        "    ], lr = 0.001)"
      ],
      "metadata": {
        "id": "GSTx1ufmQo0a"
      },
      "execution_count": 6,
      "outputs": []
    },
    {
      "cell_type": "code",
      "source": [
        "def Inverse_Lorenz(net, t):\n",
        "    x, y, z = net(t)\n",
        "    dx_t = torch.autograd.grad(x.sum(), t, create_graph=True)[0]\n",
        "    dy_t = torch.autograd.grad(y.sum(), t, create_graph=True)[0]\n",
        "    dz_t = torch.autograd.grad(z.sum(), t, create_graph=True)[0]\n",
        "\n",
        "    pde1 = dx_t - C1 * (y - x)\n",
        "    pde2 = dy_t - x * (C2 - z) + y\n",
        "    pde3 = dz_t - x * y + C3 * z\n",
        "\n",
        "    return (pde1.pow(2).sum() + pde2.pow(2).sum() + pde3.pow(2).sum()) / t.shape[0]\n",
        "\n",
        "def ic_loss(net, init_t, init_x, init_y, init_z):\n",
        "  x_out, y_out, z_out = net(init_t)\n",
        "  loss = (x_out-init_x).pow(2).sum()/init_t.shape[0]+(y_out-init_y).pow(2).sum()/init_t.shape[0]+(z_out-init_z).pow(2).sum()/init_t.shape[0]\n",
        "  return loss\n",
        "\n",
        "def data_loss(net, data_t, data_x, data_y, data_z):\n",
        "  x_out, y_out, z_out = net(data_t)\n",
        "  loss = (x_out-data_x).pow(2).sum()/data_t.shape[0]+(y_out-data_y).pow(2).sum()/data_t.shape[0]+(z_out-data_z).pow(2).sum()/data_t.shape[0]\n",
        "  return loss"
      ],
      "metadata": {
        "id": "n75rCf_D7rIQ"
      },
      "execution_count": 7,
      "outputs": []
    },
    {
      "cell_type": "code",
      "source": [
        "pt_observe_t = torch.from_numpy(observe_t).float().requires_grad_()\n",
        "pt_observe_x = torch.from_numpy(observe_x).float().requires_grad_()\n",
        "pt_observe_y = torch.from_numpy(observe_y).float().requires_grad_()\n",
        "pt_observe_z = torch.from_numpy(observe_z).float().requires_grad_()"
      ],
      "metadata": {
        "id": "6fwLXffgdEAc"
      },
      "execution_count": 8,
      "outputs": []
    },
    {
      "cell_type": "code",
      "source": [
        "### (3) Training / Fitting (optimizer:Adam)\n",
        "iterations = 30000\n",
        "# Training loss를 저장할 리스트 초기화\n",
        "training_losses = []\n",
        "C1_values = []\n",
        "C2_values = []\n",
        "C3_values = []\n",
        "\n",
        "for epoch in range(iterations):\n",
        "\n",
        "    # Loss based on IC\n",
        "    pt_t_ic = torch.zeros((50, 1), requires_grad=True)\n",
        "    Loss_ic = ic_loss(net,pt_t_ic,-8, 7, 27)\n",
        "\n",
        "    # Loss based on PDE\n",
        "    t_collocation = torch.empty((50, 1)).uniform_(0., 3.).requires_grad_()\n",
        "    Loss_pde = Inverse_Lorenz(net, t_collocation)\n",
        "\n",
        "    # Loss based on Data\n",
        "    Loss_data = data_loss(net, pt_observe_t, pt_observe_x, pt_observe_y, pt_observe_z)\n",
        "\n",
        "    # Combining the loss functions\n",
        "    Total_Loss =  Loss_ic + Loss_pde + Loss_data\n",
        "\n",
        "    optimizer.zero_grad() # to make the gradients zero\n",
        "    Total_Loss.backward() # This is for computing gradients using backward propagation\n",
        "    optimizer.step()\n",
        "\n",
        "    C1_values.append(C1.item())\n",
        "    C2_values.append(C2.item())\n",
        "    C3_values.append(C3.item())\n",
        "\n",
        "    training_losses.append(Total_Loss.item())\n",
        "\n",
        "    if epoch == 1 or epoch % 1000 == 0:\n",
        "        print(f'Epoch: {epoch}, Loss: {float(Total_Loss):.3}')"
      ],
      "metadata": {
        "id": "Wtk10xhN5Tbp"
      },
      "execution_count": null,
      "outputs": []
    },
    {
      "cell_type": "code",
      "source": [
        "import matplotlib.pyplot as plt\n",
        "plt.figure(figsize=(10, 6))\n",
        "plt.plot(range(iterations), C1_values, label='σ predict')\n",
        "plt.plot(range(iterations), C2_values, label='ρ predict')\n",
        "plt.plot(range(iterations), C3_values, label='β predict')\n",
        "plt.axhline(y=10, linestyle='--', label='σ :10')\n",
        "plt.axhline(y=15, color='orange', linestyle='--', label='ρ :15')\n",
        "plt.axhline(y=8/3, color='g', linestyle='--', label='β :8/3')\n",
        "plt.xlabel('Iterations')\n",
        "plt.ylabel('Values')\n",
        "plt.title('C1, C2, C3 values over iterations')\n",
        "plt.legend()\n",
        "plt.grid(True)\n",
        "plt.show()"
      ],
      "metadata": {
        "id": "jVjjgVSh5SBp"
      },
      "execution_count": null,
      "outputs": []
    },
    {
      "cell_type": "code",
      "source": [
        "import matplotlib.pyplot as plt\n",
        "plt.plot(range(iterations), training_losses, label='Training Loss')\n",
        "plt.xlabel('Epoch')\n",
        "plt.ylabel('Loss')\n",
        "plt.title('Training Loss over Epochs')\n",
        "plt.legend()\n",
        "plt.show()"
      ],
      "metadata": {
        "id": "DF4f7Ehb5QtY"
      },
      "execution_count": null,
      "outputs": []
    },
    {
      "cell_type": "code",
      "source": [
        "import matplotlib.pyplot as plt\n",
        "t = np.arange(0, 3, 0.001)\n",
        "t = np.ravel(t).reshape(-1, 1)\n",
        "pt_t = Variable(torch.from_numpy(t).float(), requires_grad=True)\n",
        "pt_x,pt_y,pt_z = net(pt_t)\n",
        "x = pt_x.data.cpu().numpy()\n",
        "x = x.reshape(t.shape)\n",
        "\n",
        "y = pt_y.data.cpu().numpy()\n",
        "y = y.reshape(t.shape)\n",
        "\n",
        "z = pt_z.data.cpu().numpy()\n",
        "z = z.reshape(t.shape)\n",
        "\n",
        "plt.plot(t,x, label='Predicted x')\n",
        "plt.plot(t,y, label='Predicted y')\n",
        "plt.plot(t,z, label='Predicted z')\n",
        "\n",
        "plt.scatter(observe_t, ob_u[:, 0], label='Observed x', color='blue')\n",
        "plt.scatter(observe_t, ob_u[:, 1], label='Observed y', color='orange')\n",
        "plt.scatter(observe_t, ob_u[:, 2], label='Observed z', color='green')\n",
        "\n",
        "plt.title('Predicted vs Observed')\n",
        "plt.legend()\n",
        "plt.show()"
      ],
      "metadata": {
        "id": "qu9y_lwp5OuQ"
      },
      "execution_count": null,
      "outputs": []
    }
  ]
}